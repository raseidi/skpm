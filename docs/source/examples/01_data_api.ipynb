{
 "cells": [
  {
   "cell_type": "markdown",
   "id": "674e52fc",
   "metadata": {},
   "source": [
    "# Downloading event logs via API\n",
    "\n",
    "This example demonstrates how we can easily download well-known process mining event logs\n",
    "from the 4TU.Centre for Research Data using the `skpm.event_logs` module.\n",
    "\n",
    "The `skpm.event_logs` module provides a set of event logs, such as the Sepsis and BPI 2012."
   ]
  },
  {
   "cell_type": "markdown",
   "id": "b44f78c3",
   "metadata": {},
   "source": [
    "## The API overview\n",
    "\n",
    "Implementing each event log as a class is a design choice that allows us to\n",
    "easily manipulate each of them according to their specific characteristics.\n",
    "One of the main challenges in process mining is the completely different\n",
    "nature of datasets, since\n",
    "each of them is composed of very particular business rules.\n",
    "\n",
    "For instance, an unbiased split of event logs was proposed in [1]. Roughly\n",
    "speaking, each event log is splitted based on specific temporal\n",
    "characteristics, which is hard coded within each specific event log. You can\n",
    "check this feature in :ref:`Unbiased split\n",
    "<sphx_glr_auto_examples_unbiased_split.py>`.\n",
    "Now, let us see how to easily download event logs below."
   ]
  },
  {
   "cell_type": "markdown",
   "id": "704591a7",
   "metadata": {},
   "source": [
    "## Downloading the BPI 2013 event log\n",
    "\n",
    "The BPI 2013 event log is a well-known event log that contains data about\n",
    "closed problems from the Volvo IT Belgium. We can easily download it as\n",
    "follows:"
   ]
  },
  {
   "cell_type": "code",
   "execution_count": 1,
   "id": "f574a352",
   "metadata": {},
   "outputs": [
    {
     "data": {
      "text/plain": [
       "BPI13ClosedProblems Event Log\n",
       "    Cases: 1,487\n",
       "    Events: 6,660\n",
       "    Activities: 4"
      ]
     },
     "execution_count": 1,
     "metadata": {},
     "output_type": "execute_result"
    }
   ],
   "source": [
    "from skpm.event_logs import BPI13ClosedProblems\n",
    "\n",
    "bpi13 = BPI13ClosedProblems() # automatically downloads and caches the file\n",
    "bpi13"
   ]
  },
  {
   "cell_type": "markdown",
   "id": "e7ccf024",
   "metadata": {},
   "source": [
    "Notice, the `__repr__`method returns a brief overview of the event log.\n",
    "In order to acess the dataframe, just call the `dataframe` attribute."
   ]
  },
  {
   "cell_type": "code",
   "execution_count": 2,
   "id": "629ac591",
   "metadata": {},
   "outputs": [
    {
     "data": {
      "text/html": [
       "<div>\n",
       "<style scoped>\n",
       "    .dataframe tbody tr th:only-of-type {\n",
       "        vertical-align: middle;\n",
       "    }\n",
       "\n",
       "    .dataframe tbody tr th {\n",
       "        vertical-align: top;\n",
       "    }\n",
       "\n",
       "    .dataframe thead th {\n",
       "        text-align: right;\n",
       "    }\n",
       "</style>\n",
       "<table border=\"1\" class=\"dataframe\">\n",
       "  <thead>\n",
       "    <tr style=\"text-align: right;\">\n",
       "      <th></th>\n",
       "      <th>org:group</th>\n",
       "      <th>resource country</th>\n",
       "      <th>organization country</th>\n",
       "      <th>org:resource</th>\n",
       "      <th>organization involved</th>\n",
       "      <th>org:role</th>\n",
       "      <th>concept:name</th>\n",
       "      <th>impact</th>\n",
       "      <th>product</th>\n",
       "      <th>lifecycle:transition</th>\n",
       "      <th>time:timestamp</th>\n",
       "      <th>case:concept:name</th>\n",
       "    </tr>\n",
       "  </thead>\n",
       "  <tbody>\n",
       "    <tr>\n",
       "      <th>0</th>\n",
       "      <td>Org line A2</td>\n",
       "      <td>INDIA</td>\n",
       "      <td>se</td>\n",
       "      <td>Minnie</td>\n",
       "      <td>J11 2nd</td>\n",
       "      <td>A2_2</td>\n",
       "      <td>Queued</td>\n",
       "      <td>High</td>\n",
       "      <td>PROD191</td>\n",
       "      <td>Awaiting Assignment</td>\n",
       "      <td>2006-01-11 14:49:42+00:00</td>\n",
       "      <td>1-109135791</td>\n",
       "    </tr>\n",
       "    <tr>\n",
       "      <th>1</th>\n",
       "      <td>Org line A2</td>\n",
       "      <td>Sweden</td>\n",
       "      <td>cn</td>\n",
       "      <td>Tomas</td>\n",
       "      <td>M1 2nd</td>\n",
       "      <td>A2_2</td>\n",
       "      <td>Accepted</td>\n",
       "      <td>Medium</td>\n",
       "      <td>PROD753</td>\n",
       "      <td>In Progress</td>\n",
       "      <td>2006-11-07 09:00:36+00:00</td>\n",
       "      <td>1-147898401</td>\n",
       "    </tr>\n",
       "    <tr>\n",
       "      <th>2</th>\n",
       "      <td>Org line A2</td>\n",
       "      <td>Sweden</td>\n",
       "      <td>cn</td>\n",
       "      <td>Tomas</td>\n",
       "      <td>M1 2nd</td>\n",
       "      <td>A2_2</td>\n",
       "      <td>Accepted</td>\n",
       "      <td>Medium</td>\n",
       "      <td>PROD753</td>\n",
       "      <td>In Progress</td>\n",
       "      <td>2006-11-07 12:05:44+00:00</td>\n",
       "      <td>1-147898401</td>\n",
       "    </tr>\n",
       "    <tr>\n",
       "      <th>3</th>\n",
       "      <td>Org line A2</td>\n",
       "      <td>Sweden</td>\n",
       "      <td>cn</td>\n",
       "      <td>Tomas</td>\n",
       "      <td>M1 2nd</td>\n",
       "      <td>A2_2</td>\n",
       "      <td>Accepted</td>\n",
       "      <td>Medium</td>\n",
       "      <td>PROD753</td>\n",
       "      <td>In Progress</td>\n",
       "      <td>2007-03-20 08:06:25+00:00</td>\n",
       "      <td>1-165554831</td>\n",
       "    </tr>\n",
       "    <tr>\n",
       "      <th>4</th>\n",
       "      <td>Org line A2</td>\n",
       "      <td>Sweden</td>\n",
       "      <td>cn</td>\n",
       "      <td>Tomas</td>\n",
       "      <td>M1 2nd</td>\n",
       "      <td>A2_2</td>\n",
       "      <td>Accepted</td>\n",
       "      <td>Low</td>\n",
       "      <td>PROD753</td>\n",
       "      <td>In Progress</td>\n",
       "      <td>2007-05-10 14:21:54+00:00</td>\n",
       "      <td>1-172473423</td>\n",
       "    </tr>\n",
       "  </tbody>\n",
       "</table>\n",
       "</div>"
      ],
      "text/plain": [
       "     org:group resource country organization country org:resource  \\\n",
       "0  Org line A2            INDIA                   se       Minnie   \n",
       "1  Org line A2           Sweden                   cn        Tomas   \n",
       "2  Org line A2           Sweden                   cn        Tomas   \n",
       "3  Org line A2           Sweden                   cn        Tomas   \n",
       "4  Org line A2           Sweden                   cn        Tomas   \n",
       "\n",
       "  organization involved org:role concept:name  impact  product  \\\n",
       "0               J11 2nd     A2_2       Queued    High  PROD191   \n",
       "1                M1 2nd     A2_2     Accepted  Medium  PROD753   \n",
       "2                M1 2nd     A2_2     Accepted  Medium  PROD753   \n",
       "3                M1 2nd     A2_2     Accepted  Medium  PROD753   \n",
       "4                M1 2nd     A2_2     Accepted     Low  PROD753   \n",
       "\n",
       "  lifecycle:transition            time:timestamp case:concept:name  \n",
       "0  Awaiting Assignment 2006-01-11 14:49:42+00:00       1-109135791  \n",
       "1          In Progress 2006-11-07 09:00:36+00:00       1-147898401  \n",
       "2          In Progress 2006-11-07 12:05:44+00:00       1-147898401  \n",
       "3          In Progress 2007-03-20 08:06:25+00:00       1-165554831  \n",
       "4          In Progress 2007-05-10 14:21:54+00:00       1-172473423  "
      ]
     },
     "execution_count": 2,
     "metadata": {},
     "output_type": "execute_result"
    }
   ],
   "source": [
    "bpi13.dataframe.head()"
   ]
  },
  {
   "cell_type": "markdown",
   "id": "a3c5fa2a",
   "metadata": {},
   "source": [
    "In this tutorial, we showed how to user our API to automatically\n",
    "download event logs from the `4TU Repository <https://data.4tu.nl/>`_.\n",
    "We hope you find it useful for your projects.\n",
    "\n",
    "## References\n",
    "\n",
    "[1] Hans Weytjens, Jochen De Weerdt. Creating Unbiased Public Benchmark Datasets with Data Leakage Prevention for Predictive Process Monitoring, 2021. doi: 10.1007/978-3-030-94343-1_2"
   ]
  }
 ],
 "metadata": {
  "kernelspec": {
   "display_name": ".venv",
   "language": "python",
   "name": "python3"
  },
  "language_info": {
   "codemirror_mode": {
    "name": "ipython",
    "version": 3
   },
   "file_extension": ".py",
   "mimetype": "text/x-python",
   "name": "python",
   "nbconvert_exporter": "python",
   "pygments_lexer": "ipython3",
   "version": "3.12.0"
  }
 },
 "nbformat": 4,
 "nbformat_minor": 5
}
