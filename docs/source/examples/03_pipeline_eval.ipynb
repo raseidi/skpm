{
 "cells": [
  {
   "cell_type": "markdown",
   "id": "e0898d6e",
   "metadata": {},
   "source": [
    "# Pipeline selection\n",
    "\n",
    "In this tutorial, we will learn how to choose a suitable pipeline for \n",
    "a PPM task. We will compare two approaches for preparing data before \n",
    "training Gradient Boosting and Random Forest regressors. The first \n",
    "approach uses more detailed steps, including timestamp features, \n",
    "one-hot encoding, and resource pool extraction. The second approach is \n",
    "simpler and relies only on one-hot encoding. We will train each type \n",
    "of model with each approach to see how they perform.\n",
    "\n",
    "Let us first import the necessary libraries and set the random seed  for reproducibility."
   ]
  },
  {
   "cell_type": "code",
   "execution_count": 121,
   "id": "7b3ee855",
   "metadata": {},
   "outputs": [],
   "source": [
    "import numpy as np\n",
    "import pandas as pd\n",
    "\n",
    "from sklearn.pipeline import Pipeline\n",
    "from sklearn.compose import ColumnTransformer\n",
    "from sklearn.metrics import root_mean_squared_error\n",
    "from sklearn.preprocessing import StandardScaler, OneHotEncoder\n",
    "from sklearn.ensemble import RandomForestRegressor, GradientBoostingRegressor\n",
    "from xgboost import XGBRegressor\n",
    "\n",
    "from skpm.sequence_encoding import Aggregation\n",
    "from skpm.config import EventLogConfig as elc\n",
    "from skpm.event_logs import BPI20PrepaidTravelCosts, split\n",
    "from skpm.feature_extraction.targets import remaining_time\n",
    "from skpm.feature_extraction import TimestampExtractor, ResourcePoolExtractor\n",
    "\n",
    "# Set random state for reproducible results\n",
    "RANDOM_STATE = 44\n",
    "np.random.seed(RANDOM_STATE)"
   ]
  },
  {
   "cell_type": "markdown",
   "id": "3943e804",
   "metadata": {},
   "source": [
    "Below we load one of the BPI20 event logs, select relevant columns \n",
    "for this example, extract the remaining time to use as the target, \n",
    "and split the data into train and test sets.1"
   ]
  },
  {
   "cell_type": "code",
   "execution_count": null,
   "id": "43ec9313",
   "metadata": {},
   "outputs": [],
   "source": [
    "from skpm.event_logs.bpi import BPI17\n",
    "\n",
    "log = BPI17()\n",
    "\n",
    "# Select basic columns\n",
    "df = log.dataframe[[elc.case_id, elc.activity, elc.resource, elc.timestamp]].copy()\n",
    "df[elc.timestamp] = pd.to_datetime(df[elc.timestamp], utc=True)\n",
    "\n",
    "# Compute remaining time in seconds\n",
    "df[\"remaining_time\"] = remaining_time(df, time_unit=\"h\")\n",
    "\n",
    "# Split into train/test sets using provided split method\n",
    "train, test = split.unbiased(df, **log.unbiased_split_params)\n",
    "\n",
    "# Separate features and targets for train and test\n",
    "X_train = train.drop(columns=[\"remaining_time\"])\n",
    "y_train = train[[\"remaining_time\"]]\n",
    "X_test = test.drop(columns=[\"remaining_time\"])\n",
    "y_test = test[[\"remaining_time\"]]\n",
    "\n",
    "sc = StandardScaler()\n",
    "y_train = sc.fit_transform(y_train).values.ravel()\n",
    "y_test = sc.transform(y_test).values.ravel()"
   ]
  },
  {
   "cell_type": "markdown",
   "id": "a4a225d4",
   "metadata": {},
   "source": [
    "## Preprocessing pipelines\n",
    "\n",
    "We will define two different pipelines for preprocessing the data before\n",
    "training the models.\n",
    "\n",
    "- A **simple** data preparation pipeline: let's just one-hot encode activity labels and discard other features\n",
    "- A more **complex** one: let's engineer some features from the resources and timestamps. "
   ]
  },
  {
   "cell_type": "code",
   "execution_count": 156,
   "id": "f337db3c",
   "metadata": {},
   "outputs": [],
   "source": [
    "EVENT_FEATURES = [\n",
    "    \"day_of_month\",\n",
    "    \"day_of_week\",\n",
    "    \"day_of_year\",\n",
    "    \"secs_within_day\",\n",
    "    \"week_of_year\",\n",
    "]\n",
    "\n",
    "data_prep_advanced = Pipeline([\n",
    "    (\"preprocessing\", ColumnTransformer(\n",
    "        transformers=[\n",
    "            (\"timestamp_features\", TimestampExtractor(case_features=\"accumulated_time\", event_features=EVENT_FEATURES), [elc.timestamp, elc.case_id]),\n",
    "            (\"activity_encoder\", OneHotEncoder(sparse_output=False, handle_unknown=\"ignore\"), [elc.activity]),\n",
    "            (\"resource_pool\", ResourcePoolExtractor(threshold=0.5), [elc.case_id, elc.activity, elc.resource]),\n",
    "            (\"case_id_pass\", \"passthrough\", [elc.case_id]),\n",
    "        ])),\n",
    "    (\"encode_agg\", Aggregation(method=\"norm\", prefix_len=3)),\n",
    "    (\"scaling\", StandardScaler()),\n",
    "])\n",
    "\n",
    "data_prep_simple = Pipeline([\n",
    "    (\"preprocessing\", ColumnTransformer(\n",
    "        transformers=[\n",
    "            (\"activity_encoder\", OneHotEncoder(sparse_output=False, handle_unknown=\"ignore\"), [elc.activity]),\n",
    "            (\"case_id_pass\", \"passthrough\", [elc.case_id]),\n",
    "    ])),\n",
    "    (\"encode_agg\", Aggregation(method=\"norm\", prefix_len=3)),\n",
    "    (\"scaling\", StandardScaler()),\n",
    "])"
   ]
  },
  {
   "cell_type": "markdown",
   "id": "90df3b2f",
   "metadata": {},
   "source": [
    "## Training models\n",
    "\n",
    "We will train two Gradient Boosting and two Random Forest models\n",
    "using the advanced and simple preprocessing pipelines. We will then\n",
    "evaluate the models using the root mean squared error (RMSE) metric."
   ]
  },
  {
   "cell_type": "code",
   "execution_count": 157,
   "id": "cac5b424",
   "metadata": {},
   "outputs": [],
   "source": [
    "# Gradient Boosting pipelines\n",
    "gb_pipe_advanced = Pipeline([\n",
    "    (\"preprocessing\", data_prep_advanced),\n",
    "    (\"regressor\", GradientBoostingRegressor(learning_rate=0.2, random_state=RANDOM_STATE))\n",
    "])\n",
    "\n",
    "gb_pipe_simple = Pipeline([\n",
    "    (\"preprocessing\", data_prep_simple),\n",
    "    (\"regressor\", GradientBoostingRegressor(learning_rate=0.2, random_state=RANDOM_STATE))\n",
    "])\n",
    "\n",
    "# Random Forest pipelines\n",
    "rf_pipe_advanced = Pipeline([\n",
    "    (\"preprocessing\", data_prep_advanced),\n",
    "    (\"regressor\", RandomForestRegressor(max_depth=8, random_state=RANDOM_STATE))\n",
    "])\n",
    "\n",
    "rf_pipe_simple = Pipeline([\n",
    "    (\"preprocessing\", data_prep_simple),\n",
    "    (\"regressor\", RandomForestRegressor(max_depth=8, random_state=RANDOM_STATE))\n",
    "])\n",
    "\n",
    "# Xgb pipelines\n",
    "xgb_pipe_advanced = Pipeline([\n",
    "    (\"preprocessing\", data_prep_advanced),\n",
    "    (\"regressor\", XGBRegressor(learning_rate=0.2, random_state=RANDOM_STATE))\n",
    "])\n",
    "\n",
    "xgb_pipe_simple = Pipeline([\n",
    "    (\"preprocessing\", data_prep_simple),\n",
    "    (\"regressor\", XGBRegressor(learning_rate=0.2, random_state=RANDOM_STATE))\n",
    "])"
   ]
  },
  {
   "cell_type": "markdown",
   "id": "225ad6f2",
   "metadata": {},
   "source": [
    "Fitting everyone:"
   ]
  },
  {
   "cell_type": "code",
   "execution_count": 158,
   "id": "048169e4",
   "metadata": {},
   "outputs": [],
   "source": [
    "gb_pipe_advanced.fit(X_train, y_train)\n",
    "gb_pipe_simple.fit(X_train, y_train)\n",
    "rf_pipe_advanced.fit(X_train, y_train)\n",
    "rf_pipe_simple.fit(X_train, y_train)\n",
    "xgb_pipe_advanced.fit(X_train, y_train)\n",
    "xgb_pipe_simple.fit(X_train, y_train);"
   ]
  },
  {
   "cell_type": "markdown",
   "id": "0deaf3a7",
   "metadata": {},
   "source": [
    "## Results"
   ]
  },
  {
   "cell_type": "code",
   "execution_count": null,
   "id": "f8ba3b60",
   "metadata": {},
   "outputs": [],
   "source": [
    "scores = pd.DataFrame({\n",
    "    \"model\": [\"GB1_complex\", \"GB2_simple\", \"RF_complex\", \"RF2_simple\", \"XGB_complex\", \"XGB_simple\"],\n",
    "    \"score\": [\n",
    "        root_mean_squared_error(y_test, gb_pipe_advanced.predict(X_test)),\n",
    "        root_mean_squared_error(y_test, gb_pipe_simple.predict(X_test)),\n",
    "        root_mean_squared_error(y_test, rf_pipe_advanced.predict(X_test)),\n",
    "        root_mean_squared_error(y_test, rf_pipe_simple.predict(X_test)),\n",
    "        root_mean_squared_error(y_test, xgb_pipe_advanced.predict(X_test)),\n",
    "        root_mean_squared_error(y_test, xgb_pipe_simple.predict(X_test)),\n",
    "    ]\n",
    "})"
   ]
  },
  {
   "cell_type": "code",
   "execution_count": 162,
   "id": "6d2ca484",
   "metadata": {},
   "outputs": [
    {
     "data": {
      "image/png": "[encoded data removed]",
      "text/plain": [
       "<Figure size 800x400 with 1 Axes>"
      ]
     },
     "metadata": {},
     "output_type": "display_data"
    }
   ],
   "source": [
    "import matplotlib.pyplot as plt\n",
    "plt.style.use(\"ggplot\")\n",
    "\n",
    "scores.plot(\n",
    "    kind=\"barh\", \n",
    "    x=\"model\", \n",
    "    y=\"score\", \n",
    "    color=\"steelblue\", \n",
    "    legend=False,\n",
    "    figsize=(8, 4)\n",
    ")\n",
    "plt.ylabel(\"\")\n",
    "plt.xlabel(\"RMSE\")\n",
    "# plt.xscale(\"log\")\n",
    "plt.tight_layout()"
   ]
  }
 ],
 "metadata": {
  "kernelspec": {
   "display_name": ".venv",
   "language": "python",
   "name": "python3"
  },
  "language_info": {
   "codemirror_mode": {
    "name": "ipython",
    "version": 3
   },
   "file_extension": ".py",
   "mimetype": "text/x-python",
   "name": "python",
   "nbconvert_exporter": "python",
   "pygments_lexer": "ipython3",
   "version": "3.12.0"
  }
 },
 "nbformat": 4,
 "nbformat_minor": 5
}
