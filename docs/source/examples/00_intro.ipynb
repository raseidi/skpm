{
 "cells": [
  {
   "cell_type": "markdown",
   "id": "31eb9c1d",
   "metadata": {},
   "source": [
    "Event Feature Extraction\n",
    "========================\n",
    "\n",
    "In this tutorial, we introduce a few feature extraction techniques. Let's start by loading some data:"
   ]
  },
  {
   "cell_type": "code",
   "execution_count": 39,
   "id": "64f434b7",
   "metadata": {},
   "outputs": [
    {
     "data": {
      "text/plain": [
       "BPI17 Event Log\n",
       "    Cases: 31,509\n",
       "    Events: 1,202,267\n",
       "    Activities: 26"
      ]
     },
     "execution_count": 39,
     "metadata": {},
     "output_type": "execute_result"
    }
   ],
   "source": [
    "from skpm.event_logs import split, BPI17\n",
    "from skpm.feature_extraction import TimestampExtractor\n",
    "\n",
    "# download the dataset\n",
    "log = BPI17()\n",
    "log"
   ]
  },
  {
   "cell_type": "markdown",
   "id": "1c2a4194",
   "metadata": {},
   "source": [
    "We'll use the unbiased split strategy in this tutorial and extract features accordingly."
   ]
  },
  {
   "cell_type": "code",
   "execution_count": 40,
   "id": "b599d555",
   "metadata": {},
   "outputs": [],
   "source": [
    "train, test = split.unbiased(log.dataframe, **log.unbiased_split_params)"
   ]
  },
  {
   "cell_type": "markdown",
   "id": "65b2483b",
   "metadata": {},
   "source": [
    "## Time-related features"
   ]
  },
  {
   "cell_type": "code",
   "execution_count": 41,
   "id": "a1535e98",
   "metadata": {},
   "outputs": [
    {
     "data": {
      "text/plain": [
       "((805809, 33), (294882, 33))"
      ]
     },
     "execution_count": 41,
     "metadata": {},
     "output_type": "execute_result"
    }
   ],
   "source": [
    "te = TimestampExtractor().fit(train)\n",
    "train[te.get_feature_names_out()] = te.transform(train)\n",
    "test[te.get_feature_names_out()] = te.transform(test)\n",
    "\n",
    "train.shape, test.shape"
   ]
  },
  {
   "cell_type": "markdown",
   "id": "612c3540",
   "metadata": {},
   "source": [
    "In the literature, features like the weekday are usually extracted as a categorical features, but we currently implement it as a numerical by normalizing the values between `[-0.5, 0.5]`. In the future, we intend to provide a parameter to choose between the two options."
   ]
  },
  {
   "cell_type": "code",
   "execution_count": 42,
   "id": "94241d23",
   "metadata": {},
   "outputs": [
    {
     "data": {
      "text/plain": [
       "accumulated_time                0.0\n",
       "execution_time                0.048\n",
       "remaining_time          1144676.119\n",
       "day_of_month                   -0.5\n",
       "day_of_week                0.166667\n",
       "day_of_year                    -0.5\n",
       "hour_of_day               -0.108696\n",
       "min_of_hour                0.364407\n",
       "month_of_year                  -0.5\n",
       "numerical_timestamp    1451641875.0\n",
       "sec_of_min                -0.245763\n",
       "secs_since_sunday         -0.441344\n",
       "secs_within_day            -0.08941\n",
       "week_of_year                    0.5\n",
       "Name: 0, dtype: object"
      ]
     },
     "execution_count": 42,
     "metadata": {},
     "output_type": "execute_result"
    }
   ],
   "source": [
    "train.loc[0, te.get_feature_names_out()].T"
   ]
  },
  {
   "cell_type": "markdown",
   "id": "b0f80c51",
   "metadata": {},
   "source": [
    "## Resource-related features\n",
    "\n",
    "The resource pool extractor is a feature extractor that identifies\n",
    "resource roles based on the correlation between activities and resources.\n",
    "You can easily use this function as shown below:\n"
   ]
  },
  {
   "cell_type": "code",
   "execution_count": 43,
   "id": "63435dde",
   "metadata": {},
   "outputs": [
    {
     "data": {
      "text/plain": [
       "resource_role\n",
       "2    710158\n",
       "1     94110\n",
       "3      1522\n",
       "4        17\n",
       "5         2\n",
       "Name: count, dtype: int64"
      ]
     },
     "execution_count": 43,
     "metadata": {},
     "output_type": "execute_result"
    }
   ],
   "source": [
    "from skpm.feature_extraction import ResourcePoolExtractor\n",
    "\n",
    "re = ResourcePoolExtractor(threshold=0.7).fit(train)\n",
    "train[\"resource_role\"] = re.transform(train)\n",
    "\n",
    "train[\"resource_role\"].value_counts()"
   ]
  },
  {
   "cell_type": "markdown",
   "id": "365697f1",
   "metadata": {},
   "source": [
    "The `threshold` defines the minimum correlation required to assign a role between a resource and an activity."
   ]
  },
  {
   "cell_type": "code",
   "execution_count": 44,
   "id": "aad20b0f",
   "metadata": {},
   "outputs": [
    {
     "data": {
      "text/plain": [
       "resource_roles\n",
       "2                 407870\n",
       "3                 301954\n",
       "1                  94110\n",
       "4                   1522\n",
       "9                    266\n",
       "5                     36\n",
       "8                     32\n",
       "6                     17\n",
       "7                      2\n",
       "Name: count, dtype: int64"
      ]
     },
     "execution_count": 44,
     "metadata": {},
     "output_type": "execute_result"
    }
   ],
   "source": [
    "ResourcePoolExtractor(threshold=0.9).fit_transform(train).value_counts()"
   ]
  },
  {
   "cell_type": "markdown",
   "id": "9c68ed41",
   "metadata": {},
   "source": [
    "From the machine learning perspective, it can be seen as a nice way\n",
    "to encode the resource information and reduce the dimensionality of the\n",
    "data. In this example (`threshold=0.7`), we grouped 133 resource labels into 5 roles:"
   ]
  },
  {
   "cell_type": "code",
   "execution_count": 45,
   "id": "72df461d",
   "metadata": {},
   "outputs": [
    {
     "data": {
      "text/plain": [
       "<BarContainer object of 2 artists>"
      ]
     },
     "execution_count": 45,
     "metadata": {},
     "output_type": "execute_result"
    },
    {
     "data": {
      "image/png": "[encoded data removed]",
      "text/plain": [
       "<Figure size 800x200 with 1 Axes>"
      ]
     },
     "metadata": {},
     "output_type": "display_data"
    }
   ],
   "source": [
    "import matplotlib.pyplot as plt\n",
    "from skpm.config import EventLogConfig as elc\n",
    "plt.style.use(\"ggplot\")\n",
    "\n",
    "features = train[[elc.resource, \"resource_role\"]].nunique().index.values\n",
    "values = train[[elc.resource, \"resource_role\"]].nunique().values\n",
    "\n",
    "plt.figure(figsize=(8,2))\n",
    "plt.bar(features, values, edgecolor=\"black\")"
   ]
  },
  {
   "cell_type": "markdown",
   "id": "ebf1c128",
   "metadata": {},
   "source": [
    "## Inter-case features\n",
    "\n",
    "Inter-case features refer to features that are computed based on the\n",
    "relationship between different cases. It aims to quantify and module\n",
    "the resource sharing between cases, for instance. In the current version\n",
    "of our library, we only have a simple example of such feature: the number of\n",
    "cases in progress simultaneously. This feature is commonly called\n",
    "work in progress.\n",
    "\n",
    "Let's see how it works:"
   ]
  },
  {
   "cell_type": "code",
   "execution_count": 46,
   "id": "e9c939c2",
   "metadata": {},
   "outputs": [
    {
     "data": {
      "text/plain": [
       "Text(0.5, 1.0, 'Average daily \\nWork in Progress (WIP) over time')"
      ]
     },
     "execution_count": 46,
     "metadata": {},
     "output_type": "execute_result"
    },
    {
     "data": {
      "image/png": "[encoded data removed]",
      "text/plain": [
       "<Figure size 1000x300 with 1 Axes>"
      ]
     },
     "metadata": {},
     "output_type": "display_data"
    }
   ],
   "source": [
    "import pandas as pd\n",
    "from skpm.feature_extraction import WorkInProgress\n",
    "\n",
    "wip = WorkInProgress()\n",
    "wip.fit(train)\n",
    "train[\"wip\"] = wip.transform(train)\n",
    "\n",
    "data = (\n",
    "    train\n",
    "    .set_index(elc.timestamp)\n",
    "    .resample(\"D\")[[\"wip\"]]\n",
    "    .mean()\n",
    "    .reset_index()\n",
    ")\n",
    "plt.figure(figsize=(10, 3))\n",
    "plt.plot(pd.to_datetime(data[elc.timestamp]), data[\"wip\"])\n",
    "plt.title(\"Average daily \\nWork in Progress (WIP) over time\")"
   ]
  },
  {
   "cell_type": "markdown",
   "id": "26bd38d9",
   "metadata": {},
   "source": [
    "In this tutorial, we showed how to extract features from timestamps,\n",
    "resources, and the inter-case perspective. We hope you find it useful\n",
    "for your projects. If you have any questions or suggestions, please\n",
    "open an issue on our GitHub repository."
   ]
  },
  {
   "cell_type": "code",
   "execution_count": 48,
   "id": "8d9aa048",
   "metadata": {},
   "outputs": [
    {
     "data": {
      "text/html": [
       "<div>\n",
       "<style scoped>\n",
       "    .dataframe tbody tr th:only-of-type {\n",
       "        vertical-align: middle;\n",
       "    }\n",
       "\n",
       "    .dataframe tbody tr th {\n",
       "        vertical-align: top;\n",
       "    }\n",
       "\n",
       "    .dataframe thead th {\n",
       "        text-align: right;\n",
       "    }\n",
       "</style>\n",
       "<table border=\"1\" class=\"dataframe\">\n",
       "  <thead>\n",
       "    <tr style=\"text-align: right;\">\n",
       "      <th></th>\n",
       "      <th>0</th>\n",
       "      <th>1</th>\n",
       "      <th>2</th>\n",
       "      <th>3</th>\n",
       "      <th>4</th>\n",
       "    </tr>\n",
       "  </thead>\n",
       "  <tbody>\n",
       "    <tr>\n",
       "      <th>Action</th>\n",
       "      <td>Created</td>\n",
       "      <td>statechange</td>\n",
       "      <td>Created</td>\n",
       "      <td>Deleted</td>\n",
       "      <td>Created</td>\n",
       "    </tr>\n",
       "    <tr>\n",
       "      <th>org:resource</th>\n",
       "      <td>User_1</td>\n",
       "      <td>User_1</td>\n",
       "      <td>User_1</td>\n",
       "      <td>User_1</td>\n",
       "      <td>User_1</td>\n",
       "    </tr>\n",
       "    <tr>\n",
       "      <th>concept:name</th>\n",
       "      <td>A_Create Application</td>\n",
       "      <td>A_Submitted</td>\n",
       "      <td>W_Handle leads</td>\n",
       "      <td>W_Handle leads</td>\n",
       "      <td>W_Complete application</td>\n",
       "    </tr>\n",
       "    <tr>\n",
       "      <th>EventOrigin</th>\n",
       "      <td>Application</td>\n",
       "      <td>Application</td>\n",
       "      <td>Workflow</td>\n",
       "      <td>Workflow</td>\n",
       "      <td>Workflow</td>\n",
       "    </tr>\n",
       "    <tr>\n",
       "      <th>EventID</th>\n",
       "      <td>Application_652823628</td>\n",
       "      <td>ApplState_1582051990</td>\n",
       "      <td>Workitem_1298499574</td>\n",
       "      <td>Workitem_1673366067</td>\n",
       "      <td>Workitem_1493664571</td>\n",
       "    </tr>\n",
       "    <tr>\n",
       "      <th>lifecycle:transition</th>\n",
       "      <td>complete</td>\n",
       "      <td>complete</td>\n",
       "      <td>schedule</td>\n",
       "      <td>withdraw</td>\n",
       "      <td>schedule</td>\n",
       "    </tr>\n",
       "    <tr>\n",
       "      <th>time:timestamp</th>\n",
       "      <td>2016-01-01 09:51:15.304000</td>\n",
       "      <td>2016-01-01 09:51:15.352000</td>\n",
       "      <td>2016-01-01 09:51:15.774000</td>\n",
       "      <td>2016-01-01 09:52:36.392000</td>\n",
       "      <td>2016-01-01 09:52:36.403000</td>\n",
       "    </tr>\n",
       "    <tr>\n",
       "      <th>case:LoanGoal</th>\n",
       "      <td>Existing loan takeover</td>\n",
       "      <td>Existing loan takeover</td>\n",
       "      <td>Existing loan takeover</td>\n",
       "      <td>Existing loan takeover</td>\n",
       "      <td>Existing loan takeover</td>\n",
       "    </tr>\n",
       "    <tr>\n",
       "      <th>case:ApplicationType</th>\n",
       "      <td>New credit</td>\n",
       "      <td>New credit</td>\n",
       "      <td>New credit</td>\n",
       "      <td>New credit</td>\n",
       "      <td>New credit</td>\n",
       "    </tr>\n",
       "    <tr>\n",
       "      <th>case:concept:name</th>\n",
       "      <td>Application_652823628</td>\n",
       "      <td>Application_652823628</td>\n",
       "      <td>Application_652823628</td>\n",
       "      <td>Application_652823628</td>\n",
       "      <td>Application_652823628</td>\n",
       "    </tr>\n",
       "    <tr>\n",
       "      <th>case:RequestedAmount</th>\n",
       "      <td>20000.0</td>\n",
       "      <td>20000.0</td>\n",
       "      <td>20000.0</td>\n",
       "      <td>20000.0</td>\n",
       "      <td>20000.0</td>\n",
       "    </tr>\n",
       "    <tr>\n",
       "      <th>FirstWithdrawalAmount</th>\n",
       "      <td>None</td>\n",
       "      <td>None</td>\n",
       "      <td>None</td>\n",
       "      <td>None</td>\n",
       "      <td>None</td>\n",
       "    </tr>\n",
       "    <tr>\n",
       "      <th>NumberOfTerms</th>\n",
       "      <td>None</td>\n",
       "      <td>None</td>\n",
       "      <td>None</td>\n",
       "      <td>None</td>\n",
       "      <td>None</td>\n",
       "    </tr>\n",
       "    <tr>\n",
       "      <th>Accepted</th>\n",
       "      <td>None</td>\n",
       "      <td>None</td>\n",
       "      <td>None</td>\n",
       "      <td>None</td>\n",
       "      <td>None</td>\n",
       "    </tr>\n",
       "    <tr>\n",
       "      <th>MonthlyCost</th>\n",
       "      <td>None</td>\n",
       "      <td>None</td>\n",
       "      <td>None</td>\n",
       "      <td>None</td>\n",
       "      <td>None</td>\n",
       "    </tr>\n",
       "    <tr>\n",
       "      <th>Selected</th>\n",
       "      <td>None</td>\n",
       "      <td>None</td>\n",
       "      <td>None</td>\n",
       "      <td>None</td>\n",
       "      <td>None</td>\n",
       "    </tr>\n",
       "    <tr>\n",
       "      <th>CreditScore</th>\n",
       "      <td>None</td>\n",
       "      <td>None</td>\n",
       "      <td>None</td>\n",
       "      <td>None</td>\n",
       "      <td>None</td>\n",
       "    </tr>\n",
       "    <tr>\n",
       "      <th>OfferedAmount</th>\n",
       "      <td>None</td>\n",
       "      <td>None</td>\n",
       "      <td>None</td>\n",
       "      <td>None</td>\n",
       "      <td>None</td>\n",
       "    </tr>\n",
       "    <tr>\n",
       "      <th>OfferID</th>\n",
       "      <td>None</td>\n",
       "      <td>None</td>\n",
       "      <td>None</td>\n",
       "      <td>None</td>\n",
       "      <td>None</td>\n",
       "    </tr>\n",
       "    <tr>\n",
       "      <th>accumulated_time</th>\n",
       "      <td>0.0</td>\n",
       "      <td>0.048</td>\n",
       "      <td>0.47</td>\n",
       "      <td>81.088</td>\n",
       "      <td>81.099</td>\n",
       "    </tr>\n",
       "    <tr>\n",
       "      <th>execution_time</th>\n",
       "      <td>0.048</td>\n",
       "      <td>0.422</td>\n",
       "      <td>80.618</td>\n",
       "      <td>0.011</td>\n",
       "      <td>0.01</td>\n",
       "    </tr>\n",
       "    <tr>\n",
       "      <th>remaining_time</th>\n",
       "      <td>1144676.119</td>\n",
       "      <td>1144676.071</td>\n",
       "      <td>1144675.649</td>\n",
       "      <td>1144595.031</td>\n",
       "      <td>1144595.02</td>\n",
       "    </tr>\n",
       "    <tr>\n",
       "      <th>day_of_month</th>\n",
       "      <td>-0.5</td>\n",
       "      <td>-0.5</td>\n",
       "      <td>-0.5</td>\n",
       "      <td>-0.5</td>\n",
       "      <td>-0.5</td>\n",
       "    </tr>\n",
       "    <tr>\n",
       "      <th>day_of_week</th>\n",
       "      <td>0.166667</td>\n",
       "      <td>0.166667</td>\n",
       "      <td>0.166667</td>\n",
       "      <td>0.166667</td>\n",
       "      <td>0.166667</td>\n",
       "    </tr>\n",
       "    <tr>\n",
       "      <th>day_of_year</th>\n",
       "      <td>-0.5</td>\n",
       "      <td>-0.5</td>\n",
       "      <td>-0.5</td>\n",
       "      <td>-0.5</td>\n",
       "      <td>-0.5</td>\n",
       "    </tr>\n",
       "    <tr>\n",
       "      <th>hour_of_day</th>\n",
       "      <td>-0.108696</td>\n",
       "      <td>-0.108696</td>\n",
       "      <td>-0.108696</td>\n",
       "      <td>-0.108696</td>\n",
       "      <td>-0.108696</td>\n",
       "    </tr>\n",
       "    <tr>\n",
       "      <th>min_of_hour</th>\n",
       "      <td>0.364407</td>\n",
       "      <td>0.364407</td>\n",
       "      <td>0.364407</td>\n",
       "      <td>0.381356</td>\n",
       "      <td>0.381356</td>\n",
       "    </tr>\n",
       "    <tr>\n",
       "      <th>month_of_year</th>\n",
       "      <td>-0.5</td>\n",
       "      <td>-0.5</td>\n",
       "      <td>-0.5</td>\n",
       "      <td>-0.5</td>\n",
       "      <td>-0.5</td>\n",
       "    </tr>\n",
       "    <tr>\n",
       "      <th>numerical_timestamp</th>\n",
       "      <td>1451641875.0</td>\n",
       "      <td>1451641875.0</td>\n",
       "      <td>1451641875.0</td>\n",
       "      <td>1451641956.0</td>\n",
       "      <td>1451641956.0</td>\n",
       "    </tr>\n",
       "    <tr>\n",
       "      <th>sec_of_min</th>\n",
       "      <td>-0.245763</td>\n",
       "      <td>-0.245763</td>\n",
       "      <td>-0.245763</td>\n",
       "      <td>0.110169</td>\n",
       "      <td>0.110169</td>\n",
       "    </tr>\n",
       "    <tr>\n",
       "      <th>secs_since_sunday</th>\n",
       "      <td>-0.441344</td>\n",
       "      <td>-0.441344</td>\n",
       "      <td>-0.441344</td>\n",
       "      <td>-0.44121</td>\n",
       "      <td>-0.44121</td>\n",
       "    </tr>\n",
       "    <tr>\n",
       "      <th>secs_within_day</th>\n",
       "      <td>-0.08941</td>\n",
       "      <td>-0.08941</td>\n",
       "      <td>-0.08941</td>\n",
       "      <td>-0.088472</td>\n",
       "      <td>-0.088472</td>\n",
       "    </tr>\n",
       "    <tr>\n",
       "      <th>week_of_year</th>\n",
       "      <td>0.5</td>\n",
       "      <td>0.5</td>\n",
       "      <td>0.5</td>\n",
       "      <td>0.5</td>\n",
       "      <td>0.5</td>\n",
       "    </tr>\n",
       "    <tr>\n",
       "      <th>resource_role</th>\n",
       "      <td>1</td>\n",
       "      <td>1</td>\n",
       "      <td>1</td>\n",
       "      <td>1</td>\n",
       "      <td>1</td>\n",
       "    </tr>\n",
       "    <tr>\n",
       "      <th>wip</th>\n",
       "      <td>19.0</td>\n",
       "      <td>19.0</td>\n",
       "      <td>19.0</td>\n",
       "      <td>19.0</td>\n",
       "      <td>19.0</td>\n",
       "    </tr>\n",
       "  </tbody>\n",
       "</table>\n",
       "</div>"
      ],
      "text/plain": [
       "                                                0                           1  \\\n",
       "Action                                    Created                 statechange   \n",
       "org:resource                               User_1                      User_1   \n",
       "concept:name                 A_Create Application                 A_Submitted   \n",
       "EventOrigin                           Application                 Application   \n",
       "EventID                     Application_652823628        ApplState_1582051990   \n",
       "lifecycle:transition                     complete                    complete   \n",
       "time:timestamp         2016-01-01 09:51:15.304000  2016-01-01 09:51:15.352000   \n",
       "case:LoanGoal              Existing loan takeover      Existing loan takeover   \n",
       "case:ApplicationType                   New credit                  New credit   \n",
       "case:concept:name           Application_652823628       Application_652823628   \n",
       "case:RequestedAmount                      20000.0                     20000.0   \n",
       "FirstWithdrawalAmount                        None                        None   \n",
       "NumberOfTerms                                None                        None   \n",
       "Accepted                                     None                        None   \n",
       "MonthlyCost                                  None                        None   \n",
       "Selected                                     None                        None   \n",
       "CreditScore                                  None                        None   \n",
       "OfferedAmount                                None                        None   \n",
       "OfferID                                      None                        None   \n",
       "accumulated_time                              0.0                       0.048   \n",
       "execution_time                              0.048                       0.422   \n",
       "remaining_time                        1144676.119                 1144676.071   \n",
       "day_of_month                                 -0.5                        -0.5   \n",
       "day_of_week                              0.166667                    0.166667   \n",
       "day_of_year                                  -0.5                        -0.5   \n",
       "hour_of_day                             -0.108696                   -0.108696   \n",
       "min_of_hour                              0.364407                    0.364407   \n",
       "month_of_year                                -0.5                        -0.5   \n",
       "numerical_timestamp                  1451641875.0                1451641875.0   \n",
       "sec_of_min                              -0.245763                   -0.245763   \n",
       "secs_since_sunday                       -0.441344                   -0.441344   \n",
       "secs_within_day                          -0.08941                    -0.08941   \n",
       "week_of_year                                  0.5                         0.5   \n",
       "resource_role                                   1                           1   \n",
       "wip                                          19.0                        19.0   \n",
       "\n",
       "                                                2                           3  \\\n",
       "Action                                    Created                     Deleted   \n",
       "org:resource                               User_1                      User_1   \n",
       "concept:name                       W_Handle leads              W_Handle leads   \n",
       "EventOrigin                              Workflow                    Workflow   \n",
       "EventID                       Workitem_1298499574         Workitem_1673366067   \n",
       "lifecycle:transition                     schedule                    withdraw   \n",
       "time:timestamp         2016-01-01 09:51:15.774000  2016-01-01 09:52:36.392000   \n",
       "case:LoanGoal              Existing loan takeover      Existing loan takeover   \n",
       "case:ApplicationType                   New credit                  New credit   \n",
       "case:concept:name           Application_652823628       Application_652823628   \n",
       "case:RequestedAmount                      20000.0                     20000.0   \n",
       "FirstWithdrawalAmount                        None                        None   \n",
       "NumberOfTerms                                None                        None   \n",
       "Accepted                                     None                        None   \n",
       "MonthlyCost                                  None                        None   \n",
       "Selected                                     None                        None   \n",
       "CreditScore                                  None                        None   \n",
       "OfferedAmount                                None                        None   \n",
       "OfferID                                      None                        None   \n",
       "accumulated_time                             0.47                      81.088   \n",
       "execution_time                             80.618                       0.011   \n",
       "remaining_time                        1144675.649                 1144595.031   \n",
       "day_of_month                                 -0.5                        -0.5   \n",
       "day_of_week                              0.166667                    0.166667   \n",
       "day_of_year                                  -0.5                        -0.5   \n",
       "hour_of_day                             -0.108696                   -0.108696   \n",
       "min_of_hour                              0.364407                    0.381356   \n",
       "month_of_year                                -0.5                        -0.5   \n",
       "numerical_timestamp                  1451641875.0                1451641956.0   \n",
       "sec_of_min                              -0.245763                    0.110169   \n",
       "secs_since_sunday                       -0.441344                    -0.44121   \n",
       "secs_within_day                          -0.08941                   -0.088472   \n",
       "week_of_year                                  0.5                         0.5   \n",
       "resource_role                                   1                           1   \n",
       "wip                                          19.0                        19.0   \n",
       "\n",
       "                                                4  \n",
       "Action                                    Created  \n",
       "org:resource                               User_1  \n",
       "concept:name               W_Complete application  \n",
       "EventOrigin                              Workflow  \n",
       "EventID                       Workitem_1493664571  \n",
       "lifecycle:transition                     schedule  \n",
       "time:timestamp         2016-01-01 09:52:36.403000  \n",
       "case:LoanGoal              Existing loan takeover  \n",
       "case:ApplicationType                   New credit  \n",
       "case:concept:name           Application_652823628  \n",
       "case:RequestedAmount                      20000.0  \n",
       "FirstWithdrawalAmount                        None  \n",
       "NumberOfTerms                                None  \n",
       "Accepted                                     None  \n",
       "MonthlyCost                                  None  \n",
       "Selected                                     None  \n",
       "CreditScore                                  None  \n",
       "OfferedAmount                                None  \n",
       "OfferID                                      None  \n",
       "accumulated_time                           81.099  \n",
       "execution_time                               0.01  \n",
       "remaining_time                         1144595.02  \n",
       "day_of_month                                 -0.5  \n",
       "day_of_week                              0.166667  \n",
       "day_of_year                                  -0.5  \n",
       "hour_of_day                             -0.108696  \n",
       "min_of_hour                              0.381356  \n",
       "month_of_year                                -0.5  \n",
       "numerical_timestamp                  1451641956.0  \n",
       "sec_of_min                               0.110169  \n",
       "secs_since_sunday                        -0.44121  \n",
       "secs_within_day                         -0.088472  \n",
       "week_of_year                                  0.5  \n",
       "resource_role                                   1  \n",
       "wip                                          19.0  "
      ]
     },
     "execution_count": 48,
     "metadata": {},
     "output_type": "execute_result"
    }
   ],
   "source": [
    "train.head().T"
   ]
  }
 ],
 "metadata": {
  "kernelspec": {
   "display_name": ".venv",
   "language": "python",
   "name": "python3"
  },
  "language_info": {
   "codemirror_mode": {
    "name": "ipython",
    "version": 3
   },
   "file_extension": ".py",
   "mimetype": "text/x-python",
   "name": "python",
   "nbconvert_exporter": "python",
   "pygments_lexer": "ipython3",
   "version": "3.12.0"
  }
 },
 "nbformat": 4,
 "nbformat_minor": 5
}
