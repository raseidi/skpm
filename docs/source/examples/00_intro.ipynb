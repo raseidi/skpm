{
 "cells": [
  {
   "cell_type": "markdown",
   "id": "31eb9c1d",
   "metadata": {},
   "source": [
    "Event Feature Extraction\n",
    "========================\n",
    "\n",
    "In this tutorial, we introduce a few feature extraction techniques\n",
    "available in our library. Currently, we provide two modules for\n",
    "feature extraction: :mod:`skpm.case_feature_extraction` and\n",
    ":mod:`skpm.event_feature_extraction`. The former is still\n",
    "uder development so we will focus on the latter.\n",
    "\"\"\""
   ]
  },
  {
   "cell_type": "markdown",
   "id": "3cf54a07",
   "metadata": {},
   "source": [
    "Event features\n",
    "--------------\n",
    "The :mod:`skpm.event_feature_extraction` module provides\n",
    "a set of function to extract relevant features proposed in the\n",
    "literature. In this example, we show how to extract features from\n",
    "timestamps, resources, and an the inter-case perspective.\n",
    "\n",
    "Time-related features\n",
    "---------------------\n",
    "The :class:`skpm.event_feature_extraction.TimestampExtractor` class\n",
    "allows us to extract several features, such as the execution time of\n",
    "each event, the accumulated time throughout the case, and the weekday.\n",
    "Let's see how it works.\n"
   ]
  },
  {
   "cell_type": "code",
   "execution_count": null,
   "id": "64f434b7",
   "metadata": {
    "vscode": {
     "languageId": "plaintext"
    }
   },
   "outputs": [],
   "source": [
    "import pandas as pd\n",
    "from skpm.config import EventLogConfig as elc\n",
    "from skpm.feature_extraction import TimestampExtractor\n",
    "from skpm.event_logs import split, BPI17"
   ]
  }
 ],
 "metadata": {
  "language_info": {
   "name": "python"
  }
 },
 "nbformat": 4,
 "nbformat_minor": 5
}
